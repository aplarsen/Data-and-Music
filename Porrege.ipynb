{
 "cells": [
  {
   "cell_type": "code",
   "execution_count": 25,
   "metadata": {},
   "outputs": [],
   "source": [
    "import pandas as pd\n",
    "import plotly.express as px\n",
    "from plotly.subplots import make_subplots\n",
    "import pygwalker as pyg\n"
   ]
  },
  {
   "cell_type": "code",
   "execution_count": 26,
   "metadata": {},
   "outputs": [
    {
     "data": {
      "text/html": [
       "<div>\n",
       "<style scoped>\n",
       "    .dataframe tbody tr th:only-of-type {\n",
       "        vertical-align: middle;\n",
       "    }\n",
       "\n",
       "    .dataframe tbody tr th {\n",
       "        vertical-align: top;\n",
       "    }\n",
       "\n",
       "    .dataframe thead th {\n",
       "        text-align: right;\n",
       "    }\n",
       "</style>\n",
       "<table border=\"1\" class=\"dataframe\">\n",
       "  <thead>\n",
       "    <tr style=\"text-align: right;\">\n",
       "      <th></th>\n",
       "      <th>country</th>\n",
       "      <th>2018</th>\n",
       "    </tr>\n",
       "    <tr>\n",
       "      <th>country</th>\n",
       "      <th></th>\n",
       "      <th></th>\n",
       "    </tr>\n",
       "  </thead>\n",
       "  <tbody>\n",
       "    <tr>\n",
       "      <th>Afghanistan</th>\n",
       "      <td>Afghanistan</td>\n",
       "      <td>35.000</td>\n",
       "    </tr>\n",
       "    <tr>\n",
       "      <th>Angola</th>\n",
       "      <td>Angola</td>\n",
       "      <td>25.000</td>\n",
       "    </tr>\n",
       "    <tr>\n",
       "      <th>Albania</th>\n",
       "      <td>Albania</td>\n",
       "      <td>6.000</td>\n",
       "    </tr>\n",
       "    <tr>\n",
       "      <th>Argentina</th>\n",
       "      <td>Argentina</td>\n",
       "      <td>4.000</td>\n",
       "    </tr>\n",
       "    <tr>\n",
       "      <th>Armenia</th>\n",
       "      <td>Armenia</td>\n",
       "      <td>5.000</td>\n",
       "    </tr>\n",
       "    <tr>\n",
       "      <th>...</th>\n",
       "      <td>...</td>\n",
       "      <td>...</td>\n",
       "    </tr>\n",
       "    <tr>\n",
       "      <th>Vanuatu</th>\n",
       "      <td>Vanuatu</td>\n",
       "      <td>29.000</td>\n",
       "    </tr>\n",
       "    <tr>\n",
       "      <th>Samoa</th>\n",
       "      <td>Samoa</td>\n",
       "      <td>18.000</td>\n",
       "    </tr>\n",
       "    <tr>\n",
       "      <th>South Africa</th>\n",
       "      <td>South Africa</td>\n",
       "      <td>13.000</td>\n",
       "    </tr>\n",
       "    <tr>\n",
       "      <th>Zambia</th>\n",
       "      <td>Zambia</td>\n",
       "      <td>28.000</td>\n",
       "    </tr>\n",
       "    <tr>\n",
       "      <th>Zimbabwe</th>\n",
       "      <td>Zimbabwe</td>\n",
       "      <td>18.000</td>\n",
       "    </tr>\n",
       "  </tbody>\n",
       "</table>\n",
       "<p>166 rows × 2 columns</p>\n",
       "</div>"
      ],
      "text/plain": [
       "                   country   2018\n",
       "country                          \n",
       "Afghanistan    Afghanistan 35.000\n",
       "Angola              Angola 25.000\n",
       "Albania            Albania  6.000\n",
       "Argentina        Argentina  4.000\n",
       "Armenia            Armenia  5.000\n",
       "...                    ...    ...\n",
       "Vanuatu            Vanuatu 29.000\n",
       "Samoa                Samoa 18.000\n",
       "South Africa  South Africa 13.000\n",
       "Zambia              Zambia 28.000\n",
       "Zimbabwe          Zimbabwe 18.000\n",
       "\n",
       "[166 rows x 2 columns]"
      ]
     },
     "execution_count": 26,
     "metadata": {},
     "output_type": "execute_result"
    }
   ],
   "source": [
    "# Import the data from CSV\n",
    "gini_df = pd.read_csv(\"gini.csv\") #Gini Coefficient (2018)\n",
    "# The Gini coefficient measures the inequality among the values of a frequency distribution, such as levels of income. A Gini coefficient of 0 reflects perfect equality, where all income or wealth values are the same, while a Gini coefficient of 1 (or 100%) reflects maximal inequality among values, a situation where a single individual has all the income while all others have none.\n",
    "#Taken from https://www.gapminder.org/data/\n",
    "\n",
    "\n",
    "gini_dfn = gini_df.dropna()#drop na values\n",
    "\n",
    "gini_dfni = gini_dfn.set_index('country') #Set the country index\n",
    "\n",
    "\n",
    "partner_violence_df = pd.read_csv(\"partner_violence.csv\") #World partner Violence statistics (2018)\n",
    "#Ever-partnered women and girls subjected to physical and/or sexual violence by a current or former intimate partner in the previous 12 months (% ages 15–49)\n",
    "#Taken from https://www.gapminder.org/data/\n",
    "\n",
    "partner_violence_dfn = partner_violence_df.dropna()#drop na values\n",
    "#partner_violence_dfn['country_'] = partner_violence_dfn.loc[:, 'country'] \n",
    "\n",
    "partner_violence_dfni = partner_violence_dfn.set_index('country', drop=False)\n",
    "\n",
    "\n",
    "#Set Limit gini year\n",
    "\n",
    "#gini_df = gini_df['2018']\n",
    "\n",
    "\n",
    "partner_violence_dfni\n",
    "\n",
    "\n"
   ]
  },
  {
   "cell_type": "markdown",
   "metadata": {},
   "source": [
    "### It seems Like the new country index is messing up the  whole shebang"
   ]
  },
  {
   "cell_type": "code",
   "execution_count": 27,
   "metadata": {},
   "outputs": [
    {
     "data": {
      "text/plain": [
       "country\n",
       "Afghanistan    30.500\n",
       "Angola         57.700\n",
       "Albania        39.900\n",
       "Andorra        42.500\n",
       "UAE            39.800\n",
       "                ...  \n",
       "Samoa          40.700\n",
       "Yemen          49.800\n",
       "South Africa   35.200\n",
       "Zambia         52.100\n",
       "Zimbabwe       27.300\n",
       "Name: 1800, Length: 197, dtype: float64"
      ]
     },
     "execution_count": 27,
     "metadata": {},
     "output_type": "execute_result"
    }
   ],
   "source": [
    "gini_dfni['1800']"
   ]
  },
  {
   "cell_type": "code",
   "execution_count": 28,
   "metadata": {},
   "outputs": [],
   "source": [
    "# partner_violence_dfni.index"
   ]
  },
  {
   "cell_type": "code",
   "execution_count": null,
   "metadata": {},
   "outputs": [],
   "source": []
  },
  {
   "cell_type": "code",
   "execution_count": 29,
   "metadata": {},
   "outputs": [],
   "source": [
    "#gini_dfni.index"
   ]
  },
  {
   "cell_type": "code",
   "execution_count": null,
   "metadata": {},
   "outputs": [],
   "source": []
  },
  {
   "cell_type": "code",
   "execution_count": 61,
   "metadata": {},
   "outputs": [],
   "source": [
    "# Set sane display perameters\n",
    "#pd.set_option('display.float_format', lambda x: '%.3f' %x)\n",
    "#gini_dfn.describe().style.format(\"{:,.0f}\")"
   ]
  },
  {
   "cell_type": "code",
   "execution_count": 62,
   "metadata": {},
   "outputs": [],
   "source": [
    "#TODO Make all of these indexed dataframes work with all of the other methods"
   ]
  },
  {
   "cell_type": "markdown",
   "metadata": {},
   "source": []
  },
  {
   "cell_type": "code",
   "execution_count": 63,
   "metadata": {},
   "outputs": [
    {
     "data": {
      "text/html": [
       "<div>\n",
       "<style scoped>\n",
       "    .dataframe tbody tr th:only-of-type {\n",
       "        vertical-align: middle;\n",
       "    }\n",
       "\n",
       "    .dataframe tbody tr th {\n",
       "        vertical-align: top;\n",
       "    }\n",
       "\n",
       "    .dataframe thead th {\n",
       "        text-align: right;\n",
       "    }\n",
       "</style>\n",
       "<table border=\"1\" class=\"dataframe\">\n",
       "  <thead>\n",
       "    <tr style=\"text-align: right;\">\n",
       "      <th></th>\n",
       "      <th>country</th>\n",
       "      <th>1800</th>\n",
       "      <th>1801</th>\n",
       "      <th>1802</th>\n",
       "      <th>1803</th>\n",
       "      <th>1804</th>\n",
       "      <th>1805</th>\n",
       "      <th>1806</th>\n",
       "      <th>1807</th>\n",
       "      <th>1808</th>\n",
       "      <th>...</th>\n",
       "      <th>2041</th>\n",
       "      <th>2042</th>\n",
       "      <th>2043</th>\n",
       "      <th>2044</th>\n",
       "      <th>2045</th>\n",
       "      <th>2046</th>\n",
       "      <th>2047</th>\n",
       "      <th>2048</th>\n",
       "      <th>2049</th>\n",
       "      <th>2050</th>\n",
       "    </tr>\n",
       "  </thead>\n",
       "  <tbody>\n",
       "    <tr>\n",
       "      <th>0</th>\n",
       "      <td>Afghanistan</td>\n",
       "      <td>30.500</td>\n",
       "      <td>30.500</td>\n",
       "      <td>30.500</td>\n",
       "      <td>30.500</td>\n",
       "      <td>30.500</td>\n",
       "      <td>30.500</td>\n",
       "      <td>30.500</td>\n",
       "      <td>30.500</td>\n",
       "      <td>30.500</td>\n",
       "      <td>...</td>\n",
       "      <td>38.200</td>\n",
       "      <td>38.200</td>\n",
       "      <td>38.200</td>\n",
       "      <td>38.200</td>\n",
       "      <td>38.200</td>\n",
       "      <td>38.200</td>\n",
       "      <td>38.200</td>\n",
       "      <td>38.200</td>\n",
       "      <td>38.200</td>\n",
       "      <td>38.200</td>\n",
       "    </tr>\n",
       "    <tr>\n",
       "      <th>1</th>\n",
       "      <td>Angola</td>\n",
       "      <td>57.700</td>\n",
       "      <td>57.700</td>\n",
       "      <td>57.700</td>\n",
       "      <td>57.700</td>\n",
       "      <td>57.700</td>\n",
       "      <td>57.700</td>\n",
       "      <td>57.700</td>\n",
       "      <td>57.700</td>\n",
       "      <td>57.700</td>\n",
       "      <td>...</td>\n",
       "      <td>52.000</td>\n",
       "      <td>52.000</td>\n",
       "      <td>52.000</td>\n",
       "      <td>52.000</td>\n",
       "      <td>52.000</td>\n",
       "      <td>52.000</td>\n",
       "      <td>52.000</td>\n",
       "      <td>52.000</td>\n",
       "      <td>52.000</td>\n",
       "      <td>52.000</td>\n",
       "    </tr>\n",
       "  </tbody>\n",
       "</table>\n",
       "<p>2 rows × 252 columns</p>\n",
       "</div>"
      ],
      "text/plain": [
       "       country   1800   1801   1802   1803   1804   1805   1806   1807   1808  \\\n",
       "0  Afghanistan 30.500 30.500 30.500 30.500 30.500 30.500 30.500 30.500 30.500   \n",
       "1       Angola 57.700 57.700 57.700 57.700 57.700 57.700 57.700 57.700 57.700   \n",
       "\n",
       "   ...   2041   2042   2043   2044   2045   2046   2047   2048   2049   2050  \n",
       "0  ... 38.200 38.200 38.200 38.200 38.200 38.200 38.200 38.200 38.200 38.200  \n",
       "1  ... 52.000 52.000 52.000 52.000 52.000 52.000 52.000 52.000 52.000 52.000  \n",
       "\n",
       "[2 rows x 252 columns]"
      ]
     },
     "execution_count": 63,
     "metadata": {},
     "output_type": "execute_result"
    }
   ],
   "source": [
    "gini_dfn.head(2)\n"
   ]
  },
  {
   "cell_type": "code",
   "execution_count": 64,
   "metadata": {},
   "outputs": [
    {
     "data": {
      "text/plain": [
       "0     37.700\n",
       "1     51.300\n",
       "2     33.200\n",
       "3     35.100\n",
       "4     26.000\n",
       "       ...  \n",
       "192   38.700\n",
       "193   36.700\n",
       "194   63.300\n",
       "195   57.100\n",
       "196   47.200\n",
       "Name: 2018, Length: 197, dtype: float64"
      ]
     },
     "execution_count": 64,
     "metadata": {},
     "output_type": "execute_result"
    }
   ],
   "source": [
    "gini_dfn['2018']"
   ]
  },
  {
   "cell_type": "code",
   "execution_count": 65,
   "metadata": {},
   "outputs": [],
   "source": [
    "gini_dfns = gini_dfni['2018']\n",
    "gg = gini_dfni['2018']"
   ]
  },
  {
   "cell_type": "code",
   "execution_count": 66,
   "metadata": {},
   "outputs": [
    {
     "data": {
      "text/html": [
       "<div>\n",
       "<style scoped>\n",
       "    .dataframe tbody tr th:only-of-type {\n",
       "        vertical-align: middle;\n",
       "    }\n",
       "\n",
       "    .dataframe tbody tr th {\n",
       "        vertical-align: top;\n",
       "    }\n",
       "\n",
       "    .dataframe thead th {\n",
       "        text-align: right;\n",
       "    }\n",
       "</style>\n",
       "<table border=\"1\" class=\"dataframe\">\n",
       "  <thead>\n",
       "    <tr style=\"text-align: right;\">\n",
       "      <th></th>\n",
       "      <th>2018</th>\n",
       "    </tr>\n",
       "    <tr>\n",
       "      <th>country</th>\n",
       "      <th></th>\n",
       "    </tr>\n",
       "  </thead>\n",
       "  <tbody>\n",
       "    <tr>\n",
       "      <th>Afghanistan</th>\n",
       "      <td>37.700</td>\n",
       "    </tr>\n",
       "    <tr>\n",
       "      <th>Angola</th>\n",
       "      <td>51.300</td>\n",
       "    </tr>\n",
       "    <tr>\n",
       "      <th>Albania</th>\n",
       "      <td>33.200</td>\n",
       "    </tr>\n",
       "    <tr>\n",
       "      <th>Andorra</th>\n",
       "      <td>35.100</td>\n",
       "    </tr>\n",
       "    <tr>\n",
       "      <th>UAE</th>\n",
       "      <td>26.000</td>\n",
       "    </tr>\n",
       "  </tbody>\n",
       "</table>\n",
       "</div>"
      ],
      "text/plain": [
       "              2018\n",
       "country           \n",
       "Afghanistan 37.700\n",
       "Angola      51.300\n",
       "Albania     33.200\n",
       "Andorra     35.100\n",
       "UAE         26.000"
      ]
     },
     "execution_count": 66,
     "metadata": {},
     "output_type": "execute_result"
    }
   ],
   "source": [
    "gg = pd.DataFrame(gg)\n",
    "gg.head()"
   ]
  },
  {
   "cell_type": "code",
   "execution_count": 67,
   "metadata": {},
   "outputs": [
    {
     "data": {
      "text/html": [
       "<div>\n",
       "<style scoped>\n",
       "    .dataframe tbody tr th:only-of-type {\n",
       "        vertical-align: middle;\n",
       "    }\n",
       "\n",
       "    .dataframe tbody tr th {\n",
       "        vertical-align: top;\n",
       "    }\n",
       "\n",
       "    .dataframe thead th {\n",
       "        text-align: right;\n",
       "    }\n",
       "</style>\n",
       "<table border=\"1\" class=\"dataframe\">\n",
       "  <thead>\n",
       "    <tr style=\"text-align: right;\">\n",
       "      <th></th>\n",
       "      <th>country</th>\n",
       "      <th>2018</th>\n",
       "    </tr>\n",
       "    <tr>\n",
       "      <th>country</th>\n",
       "      <th></th>\n",
       "      <th></th>\n",
       "    </tr>\n",
       "  </thead>\n",
       "  <tbody>\n",
       "    <tr>\n",
       "      <th>Afghanistan</th>\n",
       "      <td>Afghanistan</td>\n",
       "      <td>35.000</td>\n",
       "    </tr>\n",
       "    <tr>\n",
       "      <th>Angola</th>\n",
       "      <td>Angola</td>\n",
       "      <td>25.000</td>\n",
       "    </tr>\n",
       "    <tr>\n",
       "      <th>Albania</th>\n",
       "      <td>Albania</td>\n",
       "      <td>6.000</td>\n",
       "    </tr>\n",
       "  </tbody>\n",
       "</table>\n",
       "</div>"
      ],
      "text/plain": [
       "                 country   2018\n",
       "country                        \n",
       "Afghanistan  Afghanistan 35.000\n",
       "Angola            Angola 25.000\n",
       "Albania          Albania  6.000"
      ]
     },
     "execution_count": 67,
     "metadata": {},
     "output_type": "execute_result"
    }
   ],
   "source": [
    "partner_violence_dfni.head(3)"
   ]
  },
  {
   "cell_type": "code",
   "execution_count": 68,
   "metadata": {},
   "outputs": [],
   "source": [
    "#me = list(gini_dfns)\n",
    "#me_df = {\"\"}\n",
    "''\n",
    "new_df = partner_violence_dfni.join(gg, lsuffix='_pviolence', rsuffix='_gini' )"
   ]
  },
  {
   "cell_type": "code",
   "execution_count": 69,
   "metadata": {},
   "outputs": [
    {
     "data": {
      "text/html": [
       "<div>\n",
       "<style scoped>\n",
       "    .dataframe tbody tr th:only-of-type {\n",
       "        vertical-align: middle;\n",
       "    }\n",
       "\n",
       "    .dataframe tbody tr th {\n",
       "        vertical-align: top;\n",
       "    }\n",
       "\n",
       "    .dataframe thead th {\n",
       "        text-align: right;\n",
       "    }\n",
       "</style>\n",
       "<table border=\"1\" class=\"dataframe\">\n",
       "  <thead>\n",
       "    <tr style=\"text-align: right;\">\n",
       "      <th></th>\n",
       "      <th>country</th>\n",
       "      <th>2018_pviolence</th>\n",
       "      <th>2018_gini</th>\n",
       "    </tr>\n",
       "    <tr>\n",
       "      <th>country</th>\n",
       "      <th></th>\n",
       "      <th></th>\n",
       "      <th></th>\n",
       "    </tr>\n",
       "  </thead>\n",
       "  <tbody>\n",
       "    <tr>\n",
       "      <th>Afghanistan</th>\n",
       "      <td>Afghanistan</td>\n",
       "      <td>35.000</td>\n",
       "      <td>37.700</td>\n",
       "    </tr>\n",
       "    <tr>\n",
       "      <th>Angola</th>\n",
       "      <td>Angola</td>\n",
       "      <td>25.000</td>\n",
       "      <td>51.300</td>\n",
       "    </tr>\n",
       "    <tr>\n",
       "      <th>Albania</th>\n",
       "      <td>Albania</td>\n",
       "      <td>6.000</td>\n",
       "      <td>33.200</td>\n",
       "    </tr>\n",
       "    <tr>\n",
       "      <th>Argentina</th>\n",
       "      <td>Argentina</td>\n",
       "      <td>4.000</td>\n",
       "      <td>41.300</td>\n",
       "    </tr>\n",
       "    <tr>\n",
       "      <th>Armenia</th>\n",
       "      <td>Armenia</td>\n",
       "      <td>5.000</td>\n",
       "      <td>34.400</td>\n",
       "    </tr>\n",
       "    <tr>\n",
       "      <th>...</th>\n",
       "      <td>...</td>\n",
       "      <td>...</td>\n",
       "      <td>...</td>\n",
       "    </tr>\n",
       "    <tr>\n",
       "      <th>Vanuatu</th>\n",
       "      <td>Vanuatu</td>\n",
       "      <td>29.000</td>\n",
       "      <td>37.600</td>\n",
       "    </tr>\n",
       "    <tr>\n",
       "      <th>Samoa</th>\n",
       "      <td>Samoa</td>\n",
       "      <td>18.000</td>\n",
       "      <td>38.700</td>\n",
       "    </tr>\n",
       "    <tr>\n",
       "      <th>South Africa</th>\n",
       "      <td>South Africa</td>\n",
       "      <td>13.000</td>\n",
       "      <td>63.300</td>\n",
       "    </tr>\n",
       "    <tr>\n",
       "      <th>Zambia</th>\n",
       "      <td>Zambia</td>\n",
       "      <td>28.000</td>\n",
       "      <td>57.100</td>\n",
       "    </tr>\n",
       "    <tr>\n",
       "      <th>Zimbabwe</th>\n",
       "      <td>Zimbabwe</td>\n",
       "      <td>18.000</td>\n",
       "      <td>47.200</td>\n",
       "    </tr>\n",
       "  </tbody>\n",
       "</table>\n",
       "<p>166 rows × 3 columns</p>\n",
       "</div>"
      ],
      "text/plain": [
       "                   country  2018_pviolence  2018_gini\n",
       "country                                              \n",
       "Afghanistan    Afghanistan          35.000     37.700\n",
       "Angola              Angola          25.000     51.300\n",
       "Albania            Albania           6.000     33.200\n",
       "Argentina        Argentina           4.000     41.300\n",
       "Armenia            Armenia           5.000     34.400\n",
       "...                    ...             ...        ...\n",
       "Vanuatu            Vanuatu          29.000     37.600\n",
       "Samoa                Samoa          18.000     38.700\n",
       "South Africa  South Africa          13.000     63.300\n",
       "Zambia              Zambia          28.000     57.100\n",
       "Zimbabwe          Zimbabwe          18.000     47.200\n",
       "\n",
       "[166 rows x 3 columns]"
      ]
     },
     "execution_count": 69,
     "metadata": {},
     "output_type": "execute_result"
    }
   ],
   "source": [
    "new_df"
   ]
  },
  {
   "cell_type": "code",
   "execution_count": null,
   "metadata": {},
   "outputs": [],
   "source": []
  },
  {
   "cell_type": "code",
   "execution_count": 70,
   "metadata": {},
   "outputs": [
    {
     "data": {
      "text/plain": [
       "(166, 2)"
      ]
     },
     "execution_count": 70,
     "metadata": {},
     "output_type": "execute_result"
    }
   ],
   "source": [
    "partner_violence_dfn.shape"
   ]
  },
  {
   "cell_type": "code",
   "execution_count": 71,
   "metadata": {},
   "outputs": [
    {
     "data": {
      "text/html": [
       "<div>\n",
       "<style scoped>\n",
       "    .dataframe tbody tr th:only-of-type {\n",
       "        vertical-align: middle;\n",
       "    }\n",
       "\n",
       "    .dataframe tbody tr th {\n",
       "        vertical-align: top;\n",
       "    }\n",
       "\n",
       "    .dataframe thead th {\n",
       "        text-align: right;\n",
       "    }\n",
       "</style>\n",
       "<table border=\"1\" class=\"dataframe\">\n",
       "  <thead>\n",
       "    <tr style=\"text-align: right;\">\n",
       "      <th></th>\n",
       "      <th>country</th>\n",
       "      <th>2018</th>\n",
       "    </tr>\n",
       "  </thead>\n",
       "  <tbody>\n",
       "    <tr>\n",
       "      <th>0</th>\n",
       "      <td>Afghanistan</td>\n",
       "      <td>35.000</td>\n",
       "    </tr>\n",
       "    <tr>\n",
       "      <th>1</th>\n",
       "      <td>Angola</td>\n",
       "      <td>25.000</td>\n",
       "    </tr>\n",
       "  </tbody>\n",
       "</table>\n",
       "</div>"
      ],
      "text/plain": [
       "       country   2018\n",
       "0  Afghanistan 35.000\n",
       "1       Angola 25.000"
      ]
     },
     "execution_count": 71,
     "metadata": {},
     "output_type": "execute_result"
    }
   ],
   "source": [
    "partner_violence_dfn.head(2)"
   ]
  },
  {
   "cell_type": "code",
   "execution_count": 72,
   "metadata": {},
   "outputs": [
    {
     "data": {
      "text/plain": [
       "(166, 2)"
      ]
     },
     "execution_count": 72,
     "metadata": {},
     "output_type": "execute_result"
    }
   ],
   "source": [
    "partner_violence_dfn.shape"
   ]
  },
  {
   "cell_type": "code",
   "execution_count": 73,
   "metadata": {},
   "outputs": [
    {
     "data": {
      "text/plain": [
       "pandas.core.frame.DataFrame"
      ]
     },
     "execution_count": 73,
     "metadata": {},
     "output_type": "execute_result"
    }
   ],
   "source": [
    "type(new_df)"
   ]
  },
  {
   "cell_type": "code",
   "execution_count": 82,
   "metadata": {},
   "outputs": [
    {
     "data": {
      "text/html": [
       "<style type=\"text/css\">\n",
       "#T_5024b_row0_col0, #T_5024b_row1_col1 {\n",
       "  background-color: #fde725;\n",
       "  color: #000000;\n",
       "}\n",
       "#T_5024b_row0_col1, #T_5024b_row1_col0 {\n",
       "  background-color: #440154;\n",
       "  color: #f1f1f1;\n",
       "}\n",
       "</style>\n",
       "<table id=\"T_5024b\">\n",
       "  <thead>\n",
       "    <tr>\n",
       "      <th class=\"blank level0\" >&nbsp;</th>\n",
       "      <th id=\"T_5024b_level0_col0\" class=\"col_heading level0 col0\" >2018_pviolence</th>\n",
       "      <th id=\"T_5024b_level0_col1\" class=\"col_heading level0 col1\" >2018_gini</th>\n",
       "    </tr>\n",
       "  </thead>\n",
       "  <tbody>\n",
       "    <tr>\n",
       "      <th id=\"T_5024b_level0_row0\" class=\"row_heading level0 row0\" >2018_pviolence</th>\n",
       "      <td id=\"T_5024b_row0_col0\" class=\"data row0 col0\" >1.000000</td>\n",
       "      <td id=\"T_5024b_row0_col1\" class=\"data row0 col1\" >0.260442</td>\n",
       "    </tr>\n",
       "    <tr>\n",
       "      <th id=\"T_5024b_level0_row1\" class=\"row_heading level0 row1\" >2018_gini</th>\n",
       "      <td id=\"T_5024b_row1_col0\" class=\"data row1 col0\" >0.260442</td>\n",
       "      <td id=\"T_5024b_row1_col1\" class=\"data row1 col1\" >1.000000</td>\n",
       "    </tr>\n",
       "  </tbody>\n",
       "</table>\n"
      ],
      "text/plain": [
       "<pandas.io.formats.style.Styler at 0x7f622431cca0>"
      ]
     },
     "execution_count": 82,
     "metadata": {},
     "output_type": "execute_result"
    }
   ],
   "source": [
    "new_df.corr(method='pearson', numeric_only = True).style.background_gradient(cmap='viridis')\n"
   ]
  },
  {
   "cell_type": "code",
   "execution_count": 83,
   "metadata": {},
   "outputs": [
    {
     "data": {
      "text/plain": [
       "country\n",
       "Afghanistan      Afghanistan\n",
       "Angola                Angola\n",
       "Albania              Albania\n",
       "Argentina          Argentina\n",
       "Armenia              Armenia\n",
       "                    ...     \n",
       "Vanuatu              Vanuatu\n",
       "Samoa                  Samoa\n",
       "South Africa    South Africa\n",
       "Zambia                Zambia\n",
       "Zimbabwe            Zimbabwe\n",
       "Name: country, Length: 166, dtype: object"
      ]
     },
     "execution_count": 83,
     "metadata": {},
     "output_type": "execute_result"
    }
   ],
   "source": [
    "new_df['2018_gini']\n",
    "new_df['country']"
   ]
  },
  {
   "cell_type": "code",
   "execution_count": 76,
   "metadata": {},
   "outputs": [
    {
     "data": {
      "application/vnd.plotly.v1+json": {
       "config": {
        "plotlyServerURL": "https://plot.ly"
       },
       "data": [
        {
         "hovertemplate": "variable=2018_gini<br>country=%{x}<br>value=%{y}<extra></extra>",
         "legendgroup": "2018_gini",
         "marker": {
          "color": "#636efa",
          "symbol": "circle"
         },
         "mode": "markers",
         "name": "2018_gini",
         "orientation": "v",
         "showlegend": true,
         "type": "scatter",
         "x": [
          "Afghanistan",
          "Angola",
          "Albania",
          "Argentina",
          "Armenia",
          "Australia",
          "Austria",
          "Azerbaijan",
          "Burundi",
          "Belgium",
          "Benin",
          "Burkina Faso",
          "Bangladesh",
          "Bulgaria",
          "Bosnia and Herzegovina",
          "Belarus",
          "Belize",
          "Bolivia",
          "Brazil",
          "Barbados",
          "Brunei",
          "Bhutan",
          "Botswana",
          "Central African Republic",
          "Canada",
          "Switzerland",
          "Chile",
          "China",
          "Cote d'Ivoire",
          "Cameroon",
          "Congo, Dem. Rep.",
          "Congo, Rep.",
          "Colombia",
          "Comoros",
          "Cape Verde",
          "Costa Rica",
          "Cuba",
          "Cyprus",
          "Czech Republic",
          "Denmark",
          "Dominican Republic",
          "Ecuador",
          "Egypt",
          "Spain",
          "Estonia",
          "Ethiopia",
          "Finland",
          "Fiji",
          "France",
          "Micronesia, Fed. Sts.",
          "Gabon",
          "UK",
          "Georgia",
          "Ghana",
          "Guinea",
          "Gambia",
          "Equatorial Guinea",
          "Greece",
          "Grenada",
          "Guatemala",
          "Guyana",
          "Hong Kong, China",
          "Honduras",
          "Croatia",
          "Haiti",
          "Hungary",
          "Indonesia",
          "India",
          "Ireland",
          "Iran",
          "Iraq",
          "Iceland",
          "Israel",
          "Italy",
          "Jamaica",
          "Jordan",
          "Japan",
          "Kazakhstan",
          "Kenya",
          "Kyrgyz Republic",
          "Cambodia",
          "Kiribati",
          "South Korea",
          "Lao",
          "Liberia",
          "St. Lucia",
          "Sri Lanka",
          "Lesotho",
          "Lithuania",
          "Luxembourg",
          "Latvia",
          "Morocco",
          "Moldova",
          "Maldives",
          "Mexico",
          "Marshall Islands",
          "North Macedonia",
          "Mali",
          "Malta",
          "Myanmar",
          "Montenegro",
          "Mongolia",
          "Mozambique",
          "Mauritania",
          "Mauritius",
          "Malawi",
          "Malaysia",
          "Namibia",
          "Niger",
          "Nigeria",
          "Nicaragua",
          "Netherlands",
          "Norway",
          "Nepal",
          "Nauru",
          "New Zealand",
          "Pakistan",
          "Panama",
          "Peru",
          "Philippines",
          "Palau",
          "Papua New Guinea",
          "Poland",
          "Portugal",
          "Paraguay",
          "Romania",
          "Russia",
          "Rwanda",
          "Sudan",
          "Senegal",
          "Singapore",
          "Solomon Islands",
          "Sierra Leone",
          "El Salvador",
          "Serbia",
          "South Sudan",
          "Sao Tome and Principe",
          "Suriname",
          "Slovak Republic",
          "Slovenia",
          "Sweden",
          "Eswatini",
          "Chad",
          "Togo",
          "Thailand",
          "Tajikistan",
          "Timor-Leste",
          "Tonga",
          "Trinidad and Tobago",
          "Tunisia",
          "Turkey",
          "Tuvalu",
          "Tanzania",
          "Uganda",
          "Ukraine",
          "Uruguay",
          "USA",
          "Uzbekistan",
          "St. Vincent and the Grenadines",
          "Venezuela",
          "Vietnam",
          "Vanuatu",
          "Samoa",
          "South Africa",
          "Zambia",
          "Zimbabwe"
         ],
         "xaxis": "x",
         "y": [
          37.7,
          51.3,
          33.2,
          41.3,
          34.4,
          34.4,
          30.9,
          27,
          39,
          27.2,
          48.1,
          35.1,
          32.4,
          41.3,
          32.6,
          25.2,
          53,
          42.6,
          53.9,
          43.9,
          35,
          37.3,
          53.3,
          56.7,
          33.3,
          33.1,
          44.4,
          38.5,
          41.5,
          46.7,
          42.1,
          48.9,
          50.4,
          45.1,
          42.4,
          48,
          43.4,
          32.7,
          25,
          28.2,
          43.7,
          45.4,
          31.5,
          34.7,
          30.3,
          35.6,
          27.3,
          36.3,
          32.4,
          40.6,
          37.9,
          36,
          36.4,
          43.5,
          33.4,
          35,
          37.1,
          32.9,
          37.5,
          48.1,
          45.2,
          53.7,
          48.9,
          29.7,
          60.5,
          29.6,
          37.8,
          35.7,
          31.4,
          42,
          29.5,
          26.1,
          38.5,
          35.9,
          45.3,
          34.1,
          32.9,
          27.8,
          40.5,
          27.7,
          40.3,
          37,
          31.4,
          38.8,
          35.3,
          51.2,
          39.4,
          44.9,
          35.7,
          35.4,
          35.1,
          39.5,
          25.7,
          31.3,
          45.4,
          40.4,
          33,
          32.2,
          28.7,
          30.7,
          37.1,
          32.7,
          54.8,
          32.5,
          36.8,
          44.7,
          41,
          58.9,
          34.5,
          35.1,
          46.3,
          28.1,
          27.6,
          31.9,
          34.1,
          35.2,
          31.6,
          49.2,
          42.4,
          42.3,
          37.4,
          41.4,
          30.2,
          33.5,
          46,
          35.8,
          37.5,
          43.7,
          34.2,
          40.4,
          40.9,
          36.5,
          35.7,
          38.6,
          30.4,
          44.1,
          30.8,
          61,
          25,
          24.6,
          30,
          54.6,
          43.4,
          43,
          36.4,
          34.1,
          28.8,
          37.6,
          41.1,
          32.8,
          41.9,
          39.1,
          40.5,
          43,
          26.1,
          39.7,
          41.4,
          35,
          38.1,
          43.7,
          35.7,
          37.6,
          38.7,
          63.3,
          57.1,
          47.2
         ],
         "yaxis": "y"
        },
        {
         "hovertemplate": "variable=2018_pviolence<br>country=%{x}<br>value=%{y}<extra></extra>",
         "legendgroup": "2018_pviolence",
         "marker": {
          "color": "#EF553B",
          "symbol": "circle"
         },
         "mode": "markers",
         "name": "2018_pviolence",
         "orientation": "v",
         "showlegend": true,
         "type": "scatter",
         "x": [
          "Afghanistan",
          "Angola",
          "Albania",
          "Argentina",
          "Armenia",
          "Australia",
          "Austria",
          "Azerbaijan",
          "Burundi",
          "Belgium",
          "Benin",
          "Burkina Faso",
          "Bangladesh",
          "Bulgaria",
          "Bosnia and Herzegovina",
          "Belarus",
          "Belize",
          "Bolivia",
          "Brazil",
          "Barbados",
          "Brunei",
          "Bhutan",
          "Botswana",
          "Central African Republic",
          "Canada",
          "Switzerland",
          "Chile",
          "China",
          "Cote d'Ivoire",
          "Cameroon",
          "Congo, Dem. Rep.",
          "Congo, Rep.",
          "Colombia",
          "Comoros",
          "Cape Verde",
          "Costa Rica",
          "Cuba",
          "Cyprus",
          "Czech Republic",
          "Denmark",
          "Dominican Republic",
          "Ecuador",
          "Egypt",
          "Spain",
          "Estonia",
          "Ethiopia",
          "Finland",
          "Fiji",
          "France",
          "Micronesia, Fed. Sts.",
          "Gabon",
          "UK",
          "Georgia",
          "Ghana",
          "Guinea",
          "Gambia",
          "Equatorial Guinea",
          "Greece",
          "Grenada",
          "Guatemala",
          "Guyana",
          "Hong Kong, China",
          "Honduras",
          "Croatia",
          "Haiti",
          "Hungary",
          "Indonesia",
          "India",
          "Ireland",
          "Iran",
          "Iraq",
          "Iceland",
          "Israel",
          "Italy",
          "Jamaica",
          "Jordan",
          "Japan",
          "Kazakhstan",
          "Kenya",
          "Kyrgyz Republic",
          "Cambodia",
          "Kiribati",
          "South Korea",
          "Lao",
          "Liberia",
          "St. Lucia",
          "Sri Lanka",
          "Lesotho",
          "Lithuania",
          "Luxembourg",
          "Latvia",
          "Morocco",
          "Moldova",
          "Maldives",
          "Mexico",
          "Marshall Islands",
          "North Macedonia",
          "Mali",
          "Malta",
          "Myanmar",
          "Montenegro",
          "Mongolia",
          "Mozambique",
          "Mauritania",
          "Mauritius",
          "Malawi",
          "Malaysia",
          "Namibia",
          "Niger",
          "Nigeria",
          "Nicaragua",
          "Netherlands",
          "Norway",
          "Nepal",
          "Nauru",
          "New Zealand",
          "Pakistan",
          "Panama",
          "Peru",
          "Philippines",
          "Palau",
          "Papua New Guinea",
          "Poland",
          "Portugal",
          "Paraguay",
          "Romania",
          "Russia",
          "Rwanda",
          "Sudan",
          "Senegal",
          "Singapore",
          "Solomon Islands",
          "Sierra Leone",
          "El Salvador",
          "Serbia",
          "South Sudan",
          "Sao Tome and Principe",
          "Suriname",
          "Slovak Republic",
          "Slovenia",
          "Sweden",
          "Eswatini",
          "Chad",
          "Togo",
          "Thailand",
          "Tajikistan",
          "Timor-Leste",
          "Tonga",
          "Trinidad and Tobago",
          "Tunisia",
          "Turkey",
          "Tuvalu",
          "Tanzania",
          "Uganda",
          "Ukraine",
          "Uruguay",
          "USA",
          "Uzbekistan",
          "St. Vincent and the Grenadines",
          "Venezuela",
          "Vietnam",
          "Vanuatu",
          "Samoa",
          "South Africa",
          "Zambia",
          "Zimbabwe"
         ],
         "xaxis": "x",
         "y": [
          35,
          25,
          6,
          4,
          5,
          3,
          4,
          5,
          22,
          5,
          15,
          11,
          23,
          6,
          3,
          6,
          8,
          18,
          6,
          16.2,
          3.5,
          9,
          17,
          21,
          3,
          2,
          6,
          8,
          16,
          22,
          36,
          33.8,
          12,
          8,
          11,
          7,
          5,
          3,
          4,
          3,
          10,
          8,
          15,
          3,
          4,
          27,
          8,
          23,
          5,
          21,
          22,
          4,
          3,
          10,
          21,
          10,
          29,
          5,
          8,
          7,
          10,
          3,
          7,
          4,
          12,
          6,
          9,
          18,
          3,
          18,
          16.5,
          3,
          6,
          4,
          7,
          13,
          4,
          6,
          23,
          13,
          9,
          25,
          8,
          8,
          27,
          16.2,
          4,
          16,
          5,
          4,
          6,
          10,
          9,
          6,
          10,
          19,
          4,
          18,
          4,
          11,
          4,
          12,
          16,
          19.7,
          13.2,
          17,
          13.1,
          16,
          13,
          13,
          6,
          5,
          4,
          11,
          20,
          4,
          16,
          8,
          11,
          6,
          14,
          31,
          3,
          4,
          6,
          7,
          8,
          23,
          17,
          12,
          2,
          28,
          20,
          6,
          4,
          27,
          18,
          8,
          6,
          3,
          6,
          18,
          16,
          13,
          9,
          14,
          28,
          17,
          8,
          10,
          12,
          20,
          24,
          26,
          9,
          4,
          6,
          7.3,
          16.1,
          8,
          10,
          29,
          18,
          13,
          28,
          18
         ],
         "yaxis": "y"
        }
       ],
       "layout": {
        "legend": {
         "title": {
          "text": "variable"
         },
         "tracegroupgap": 0
        },
        "margin": {
         "t": 60
        },
        "template": {
         "data": {
          "bar": [
           {
            "error_x": {
             "color": "#2a3f5f"
            },
            "error_y": {
             "color": "#2a3f5f"
            },
            "marker": {
             "line": {
              "color": "#E5ECF6",
              "width": 0.5
             },
             "pattern": {
              "fillmode": "overlay",
              "size": 10,
              "solidity": 0.2
             }
            },
            "type": "bar"
           }
          ],
          "barpolar": [
           {
            "marker": {
             "line": {
              "color": "#E5ECF6",
              "width": 0.5
             },
             "pattern": {
              "fillmode": "overlay",
              "size": 10,
              "solidity": 0.2
             }
            },
            "type": "barpolar"
           }
          ],
          "carpet": [
           {
            "aaxis": {
             "endlinecolor": "#2a3f5f",
             "gridcolor": "white",
             "linecolor": "white",
             "minorgridcolor": "white",
             "startlinecolor": "#2a3f5f"
            },
            "baxis": {
             "endlinecolor": "#2a3f5f",
             "gridcolor": "white",
             "linecolor": "white",
             "minorgridcolor": "white",
             "startlinecolor": "#2a3f5f"
            },
            "type": "carpet"
           }
          ],
          "choropleth": [
           {
            "colorbar": {
             "outlinewidth": 0,
             "ticks": ""
            },
            "type": "choropleth"
           }
          ],
          "contour": [
           {
            "colorbar": {
             "outlinewidth": 0,
             "ticks": ""
            },
            "colorscale": [
             [
              0,
              "#0d0887"
             ],
             [
              0.1111111111111111,
              "#46039f"
             ],
             [
              0.2222222222222222,
              "#7201a8"
             ],
             [
              0.3333333333333333,
              "#9c179e"
             ],
             [
              0.4444444444444444,
              "#bd3786"
             ],
             [
              0.5555555555555556,
              "#d8576b"
             ],
             [
              0.6666666666666666,
              "#ed7953"
             ],
             [
              0.7777777777777778,
              "#fb9f3a"
             ],
             [
              0.8888888888888888,
              "#fdca26"
             ],
             [
              1,
              "#f0f921"
             ]
            ],
            "type": "contour"
           }
          ],
          "contourcarpet": [
           {
            "colorbar": {
             "outlinewidth": 0,
             "ticks": ""
            },
            "type": "contourcarpet"
           }
          ],
          "heatmap": [
           {
            "colorbar": {
             "outlinewidth": 0,
             "ticks": ""
            },
            "colorscale": [
             [
              0,
              "#0d0887"
             ],
             [
              0.1111111111111111,
              "#46039f"
             ],
             [
              0.2222222222222222,
              "#7201a8"
             ],
             [
              0.3333333333333333,
              "#9c179e"
             ],
             [
              0.4444444444444444,
              "#bd3786"
             ],
             [
              0.5555555555555556,
              "#d8576b"
             ],
             [
              0.6666666666666666,
              "#ed7953"
             ],
             [
              0.7777777777777778,
              "#fb9f3a"
             ],
             [
              0.8888888888888888,
              "#fdca26"
             ],
             [
              1,
              "#f0f921"
             ]
            ],
            "type": "heatmap"
           }
          ],
          "heatmapgl": [
           {
            "colorbar": {
             "outlinewidth": 0,
             "ticks": ""
            },
            "colorscale": [
             [
              0,
              "#0d0887"
             ],
             [
              0.1111111111111111,
              "#46039f"
             ],
             [
              0.2222222222222222,
              "#7201a8"
             ],
             [
              0.3333333333333333,
              "#9c179e"
             ],
             [
              0.4444444444444444,
              "#bd3786"
             ],
             [
              0.5555555555555556,
              "#d8576b"
             ],
             [
              0.6666666666666666,
              "#ed7953"
             ],
             [
              0.7777777777777778,
              "#fb9f3a"
             ],
             [
              0.8888888888888888,
              "#fdca26"
             ],
             [
              1,
              "#f0f921"
             ]
            ],
            "type": "heatmapgl"
           }
          ],
          "histogram": [
           {
            "marker": {
             "pattern": {
              "fillmode": "overlay",
              "size": 10,
              "solidity": 0.2
             }
            },
            "type": "histogram"
           }
          ],
          "histogram2d": [
           {
            "colorbar": {
             "outlinewidth": 0,
             "ticks": ""
            },
            "colorscale": [
             [
              0,
              "#0d0887"
             ],
             [
              0.1111111111111111,
              "#46039f"
             ],
             [
              0.2222222222222222,
              "#7201a8"
             ],
             [
              0.3333333333333333,
              "#9c179e"
             ],
             [
              0.4444444444444444,
              "#bd3786"
             ],
             [
              0.5555555555555556,
              "#d8576b"
             ],
             [
              0.6666666666666666,
              "#ed7953"
             ],
             [
              0.7777777777777778,
              "#fb9f3a"
             ],
             [
              0.8888888888888888,
              "#fdca26"
             ],
             [
              1,
              "#f0f921"
             ]
            ],
            "type": "histogram2d"
           }
          ],
          "histogram2dcontour": [
           {
            "colorbar": {
             "outlinewidth": 0,
             "ticks": ""
            },
            "colorscale": [
             [
              0,
              "#0d0887"
             ],
             [
              0.1111111111111111,
              "#46039f"
             ],
             [
              0.2222222222222222,
              "#7201a8"
             ],
             [
              0.3333333333333333,
              "#9c179e"
             ],
             [
              0.4444444444444444,
              "#bd3786"
             ],
             [
              0.5555555555555556,
              "#d8576b"
             ],
             [
              0.6666666666666666,
              "#ed7953"
             ],
             [
              0.7777777777777778,
              "#fb9f3a"
             ],
             [
              0.8888888888888888,
              "#fdca26"
             ],
             [
              1,
              "#f0f921"
             ]
            ],
            "type": "histogram2dcontour"
           }
          ],
          "mesh3d": [
           {
            "colorbar": {
             "outlinewidth": 0,
             "ticks": ""
            },
            "type": "mesh3d"
           }
          ],
          "parcoords": [
           {
            "line": {
             "colorbar": {
              "outlinewidth": 0,
              "ticks": ""
             }
            },
            "type": "parcoords"
           }
          ],
          "pie": [
           {
            "automargin": true,
            "type": "pie"
           }
          ],
          "scatter": [
           {
            "fillpattern": {
             "fillmode": "overlay",
             "size": 10,
             "solidity": 0.2
            },
            "type": "scatter"
           }
          ],
          "scatter3d": [
           {
            "line": {
             "colorbar": {
              "outlinewidth": 0,
              "ticks": ""
             }
            },
            "marker": {
             "colorbar": {
              "outlinewidth": 0,
              "ticks": ""
             }
            },
            "type": "scatter3d"
           }
          ],
          "scattercarpet": [
           {
            "marker": {
             "colorbar": {
              "outlinewidth": 0,
              "ticks": ""
             }
            },
            "type": "scattercarpet"
           }
          ],
          "scattergeo": [
           {
            "marker": {
             "colorbar": {
              "outlinewidth": 0,
              "ticks": ""
             }
            },
            "type": "scattergeo"
           }
          ],
          "scattergl": [
           {
            "marker": {
             "colorbar": {
              "outlinewidth": 0,
              "ticks": ""
             }
            },
            "type": "scattergl"
           }
          ],
          "scattermapbox": [
           {
            "marker": {
             "colorbar": {
              "outlinewidth": 0,
              "ticks": ""
             }
            },
            "type": "scattermapbox"
           }
          ],
          "scatterpolar": [
           {
            "marker": {
             "colorbar": {
              "outlinewidth": 0,
              "ticks": ""
             }
            },
            "type": "scatterpolar"
           }
          ],
          "scatterpolargl": [
           {
            "marker": {
             "colorbar": {
              "outlinewidth": 0,
              "ticks": ""
             }
            },
            "type": "scatterpolargl"
           }
          ],
          "scatterternary": [
           {
            "marker": {
             "colorbar": {
              "outlinewidth": 0,
              "ticks": ""
             }
            },
            "type": "scatterternary"
           }
          ],
          "surface": [
           {
            "colorbar": {
             "outlinewidth": 0,
             "ticks": ""
            },
            "colorscale": [
             [
              0,
              "#0d0887"
             ],
             [
              0.1111111111111111,
              "#46039f"
             ],
             [
              0.2222222222222222,
              "#7201a8"
             ],
             [
              0.3333333333333333,
              "#9c179e"
             ],
             [
              0.4444444444444444,
              "#bd3786"
             ],
             [
              0.5555555555555556,
              "#d8576b"
             ],
             [
              0.6666666666666666,
              "#ed7953"
             ],
             [
              0.7777777777777778,
              "#fb9f3a"
             ],
             [
              0.8888888888888888,
              "#fdca26"
             ],
             [
              1,
              "#f0f921"
             ]
            ],
            "type": "surface"
           }
          ],
          "table": [
           {
            "cells": {
             "fill": {
              "color": "#EBF0F8"
             },
             "line": {
              "color": "white"
             }
            },
            "header": {
             "fill": {
              "color": "#C8D4E3"
             },
             "line": {
              "color": "white"
             }
            },
            "type": "table"
           }
          ]
         },
         "layout": {
          "annotationdefaults": {
           "arrowcolor": "#2a3f5f",
           "arrowhead": 0,
           "arrowwidth": 1
          },
          "autotypenumbers": "strict",
          "coloraxis": {
           "colorbar": {
            "outlinewidth": 0,
            "ticks": ""
           }
          },
          "colorscale": {
           "diverging": [
            [
             0,
             "#8e0152"
            ],
            [
             0.1,
             "#c51b7d"
            ],
            [
             0.2,
             "#de77ae"
            ],
            [
             0.3,
             "#f1b6da"
            ],
            [
             0.4,
             "#fde0ef"
            ],
            [
             0.5,
             "#f7f7f7"
            ],
            [
             0.6,
             "#e6f5d0"
            ],
            [
             0.7,
             "#b8e186"
            ],
            [
             0.8,
             "#7fbc41"
            ],
            [
             0.9,
             "#4d9221"
            ],
            [
             1,
             "#276419"
            ]
           ],
           "sequential": [
            [
             0,
             "#0d0887"
            ],
            [
             0.1111111111111111,
             "#46039f"
            ],
            [
             0.2222222222222222,
             "#7201a8"
            ],
            [
             0.3333333333333333,
             "#9c179e"
            ],
            [
             0.4444444444444444,
             "#bd3786"
            ],
            [
             0.5555555555555556,
             "#d8576b"
            ],
            [
             0.6666666666666666,
             "#ed7953"
            ],
            [
             0.7777777777777778,
             "#fb9f3a"
            ],
            [
             0.8888888888888888,
             "#fdca26"
            ],
            [
             1,
             "#f0f921"
            ]
           ],
           "sequentialminus": [
            [
             0,
             "#0d0887"
            ],
            [
             0.1111111111111111,
             "#46039f"
            ],
            [
             0.2222222222222222,
             "#7201a8"
            ],
            [
             0.3333333333333333,
             "#9c179e"
            ],
            [
             0.4444444444444444,
             "#bd3786"
            ],
            [
             0.5555555555555556,
             "#d8576b"
            ],
            [
             0.6666666666666666,
             "#ed7953"
            ],
            [
             0.7777777777777778,
             "#fb9f3a"
            ],
            [
             0.8888888888888888,
             "#fdca26"
            ],
            [
             1,
             "#f0f921"
            ]
           ]
          },
          "colorway": [
           "#636efa",
           "#EF553B",
           "#00cc96",
           "#ab63fa",
           "#FFA15A",
           "#19d3f3",
           "#FF6692",
           "#B6E880",
           "#FF97FF",
           "#FECB52"
          ],
          "font": {
           "color": "#2a3f5f"
          },
          "geo": {
           "bgcolor": "white",
           "lakecolor": "white",
           "landcolor": "#E5ECF6",
           "showlakes": true,
           "showland": true,
           "subunitcolor": "white"
          },
          "hoverlabel": {
           "align": "left"
          },
          "hovermode": "closest",
          "mapbox": {
           "style": "light"
          },
          "paper_bgcolor": "white",
          "plot_bgcolor": "#E5ECF6",
          "polar": {
           "angularaxis": {
            "gridcolor": "white",
            "linecolor": "white",
            "ticks": ""
           },
           "bgcolor": "#E5ECF6",
           "radialaxis": {
            "gridcolor": "white",
            "linecolor": "white",
            "ticks": ""
           }
          },
          "scene": {
           "xaxis": {
            "backgroundcolor": "#E5ECF6",
            "gridcolor": "white",
            "gridwidth": 2,
            "linecolor": "white",
            "showbackground": true,
            "ticks": "",
            "zerolinecolor": "white"
           },
           "yaxis": {
            "backgroundcolor": "#E5ECF6",
            "gridcolor": "white",
            "gridwidth": 2,
            "linecolor": "white",
            "showbackground": true,
            "ticks": "",
            "zerolinecolor": "white"
           },
           "zaxis": {
            "backgroundcolor": "#E5ECF6",
            "gridcolor": "white",
            "gridwidth": 2,
            "linecolor": "white",
            "showbackground": true,
            "ticks": "",
            "zerolinecolor": "white"
           }
          },
          "shapedefaults": {
           "line": {
            "color": "#2a3f5f"
           }
          },
          "ternary": {
           "aaxis": {
            "gridcolor": "white",
            "linecolor": "white",
            "ticks": ""
           },
           "baxis": {
            "gridcolor": "white",
            "linecolor": "white",
            "ticks": ""
           },
           "bgcolor": "#E5ECF6",
           "caxis": {
            "gridcolor": "white",
            "linecolor": "white",
            "ticks": ""
           }
          },
          "title": {
           "x": 0.05
          },
          "xaxis": {
           "automargin": true,
           "gridcolor": "white",
           "linecolor": "white",
           "ticks": "",
           "title": {
            "standoff": 15
           },
           "zerolinecolor": "white",
           "zerolinewidth": 2
          },
          "yaxis": {
           "automargin": true,
           "gridcolor": "white",
           "linecolor": "white",
           "ticks": "",
           "title": {
            "standoff": 15
           },
           "zerolinecolor": "white",
           "zerolinewidth": 2
          }
         }
        },
        "xaxis": {
         "anchor": "y",
         "domain": [
          0,
          1
         ],
         "title": {
          "text": "country"
         }
        },
        "yaxis": {
         "anchor": "x",
         "domain": [
          0,
          1
         ],
         "title": {
          "text": "value"
         }
        }
       }
      }
     },
     "metadata": {},
     "output_type": "display_data"
    }
   ],
   "source": [
    "fig = px.scatter(new_df ,x = 'country', y=['2018_gini','2018_pviolence'])\n",
    "fig.show()"
   ]
  },
  {
   "cell_type": "code",
   "execution_count": 77,
   "metadata": {},
   "outputs": [
    {
     "data": {
      "text/plain": [
       "0       Afghanistan\n",
       "1            Angola\n",
       "2           Albania\n",
       "3           Andorra\n",
       "4               UAE\n",
       "           ...     \n",
       "192           Samoa\n",
       "193           Yemen\n",
       "194    South Africa\n",
       "195          Zambia\n",
       "196        Zimbabwe\n",
       "Name: country, Length: 197, dtype: object"
      ]
     },
     "execution_count": 77,
     "metadata": {},
     "output_type": "execute_result"
    }
   ],
   "source": [
    "gini_dfn['country']"
   ]
  },
  {
   "cell_type": "code",
   "execution_count": 78,
   "metadata": {},
   "outputs": [
    {
     "data": {
      "text/html": [
       "<div>\n",
       "<style scoped>\n",
       "    .dataframe tbody tr th:only-of-type {\n",
       "        vertical-align: middle;\n",
       "    }\n",
       "\n",
       "    .dataframe tbody tr th {\n",
       "        vertical-align: top;\n",
       "    }\n",
       "\n",
       "    .dataframe thead th {\n",
       "        text-align: right;\n",
       "    }\n",
       "</style>\n",
       "<table border=\"1\" class=\"dataframe\">\n",
       "  <thead>\n",
       "    <tr style=\"text-align: right;\">\n",
       "      <th></th>\n",
       "      <th>country</th>\n",
       "      <th>1800</th>\n",
       "      <th>1801</th>\n",
       "      <th>1802</th>\n",
       "      <th>1803</th>\n",
       "      <th>1804</th>\n",
       "      <th>1805</th>\n",
       "      <th>1806</th>\n",
       "      <th>1807</th>\n",
       "      <th>1808</th>\n",
       "      <th>...</th>\n",
       "      <th>2041</th>\n",
       "      <th>2042</th>\n",
       "      <th>2043</th>\n",
       "      <th>2044</th>\n",
       "      <th>2045</th>\n",
       "      <th>2046</th>\n",
       "      <th>2047</th>\n",
       "      <th>2048</th>\n",
       "      <th>2049</th>\n",
       "      <th>2050</th>\n",
       "    </tr>\n",
       "  </thead>\n",
       "  <tbody>\n",
       "    <tr>\n",
       "      <th>0</th>\n",
       "      <td>Afghanistan</td>\n",
       "      <td>30.500</td>\n",
       "      <td>30.500</td>\n",
       "      <td>30.500</td>\n",
       "      <td>30.500</td>\n",
       "      <td>30.500</td>\n",
       "      <td>30.500</td>\n",
       "      <td>30.500</td>\n",
       "      <td>30.500</td>\n",
       "      <td>30.500</td>\n",
       "      <td>...</td>\n",
       "      <td>38.200</td>\n",
       "      <td>38.200</td>\n",
       "      <td>38.200</td>\n",
       "      <td>38.200</td>\n",
       "      <td>38.200</td>\n",
       "      <td>38.200</td>\n",
       "      <td>38.200</td>\n",
       "      <td>38.200</td>\n",
       "      <td>38.200</td>\n",
       "      <td>38.200</td>\n",
       "    </tr>\n",
       "    <tr>\n",
       "      <th>1</th>\n",
       "      <td>Angola</td>\n",
       "      <td>57.700</td>\n",
       "      <td>57.700</td>\n",
       "      <td>57.700</td>\n",
       "      <td>57.700</td>\n",
       "      <td>57.700</td>\n",
       "      <td>57.700</td>\n",
       "      <td>57.700</td>\n",
       "      <td>57.700</td>\n",
       "      <td>57.700</td>\n",
       "      <td>...</td>\n",
       "      <td>52.000</td>\n",
       "      <td>52.000</td>\n",
       "      <td>52.000</td>\n",
       "      <td>52.000</td>\n",
       "      <td>52.000</td>\n",
       "      <td>52.000</td>\n",
       "      <td>52.000</td>\n",
       "      <td>52.000</td>\n",
       "      <td>52.000</td>\n",
       "      <td>52.000</td>\n",
       "    </tr>\n",
       "    <tr>\n",
       "      <th>2</th>\n",
       "      <td>Albania</td>\n",
       "      <td>39.900</td>\n",
       "      <td>39.900</td>\n",
       "      <td>39.900</td>\n",
       "      <td>39.900</td>\n",
       "      <td>39.900</td>\n",
       "      <td>39.900</td>\n",
       "      <td>39.900</td>\n",
       "      <td>39.900</td>\n",
       "      <td>39.900</td>\n",
       "      <td>...</td>\n",
       "      <td>33.700</td>\n",
       "      <td>33.700</td>\n",
       "      <td>33.700</td>\n",
       "      <td>33.700</td>\n",
       "      <td>33.700</td>\n",
       "      <td>33.700</td>\n",
       "      <td>33.700</td>\n",
       "      <td>33.700</td>\n",
       "      <td>33.700</td>\n",
       "      <td>33.700</td>\n",
       "    </tr>\n",
       "    <tr>\n",
       "      <th>3</th>\n",
       "      <td>Andorra</td>\n",
       "      <td>42.500</td>\n",
       "      <td>42.500</td>\n",
       "      <td>42.500</td>\n",
       "      <td>42.500</td>\n",
       "      <td>42.500</td>\n",
       "      <td>42.500</td>\n",
       "      <td>42.500</td>\n",
       "      <td>42.500</td>\n",
       "      <td>42.500</td>\n",
       "      <td>...</td>\n",
       "      <td>35.000</td>\n",
       "      <td>35.000</td>\n",
       "      <td>35.000</td>\n",
       "      <td>35.000</td>\n",
       "      <td>35.000</td>\n",
       "      <td>35.000</td>\n",
       "      <td>35.000</td>\n",
       "      <td>35.000</td>\n",
       "      <td>35.000</td>\n",
       "      <td>35.000</td>\n",
       "    </tr>\n",
       "    <tr>\n",
       "      <th>4</th>\n",
       "      <td>UAE</td>\n",
       "      <td>39.800</td>\n",
       "      <td>39.800</td>\n",
       "      <td>39.800</td>\n",
       "      <td>39.800</td>\n",
       "      <td>39.800</td>\n",
       "      <td>39.800</td>\n",
       "      <td>39.800</td>\n",
       "      <td>39.700</td>\n",
       "      <td>39.700</td>\n",
       "      <td>...</td>\n",
       "      <td>25.900</td>\n",
       "      <td>25.900</td>\n",
       "      <td>25.900</td>\n",
       "      <td>25.900</td>\n",
       "      <td>25.900</td>\n",
       "      <td>25.900</td>\n",
       "      <td>25.900</td>\n",
       "      <td>25.900</td>\n",
       "      <td>25.900</td>\n",
       "      <td>25.900</td>\n",
       "    </tr>\n",
       "    <tr>\n",
       "      <th>...</th>\n",
       "      <td>...</td>\n",
       "      <td>...</td>\n",
       "      <td>...</td>\n",
       "      <td>...</td>\n",
       "      <td>...</td>\n",
       "      <td>...</td>\n",
       "      <td>...</td>\n",
       "      <td>...</td>\n",
       "      <td>...</td>\n",
       "      <td>...</td>\n",
       "      <td>...</td>\n",
       "      <td>...</td>\n",
       "      <td>...</td>\n",
       "      <td>...</td>\n",
       "      <td>...</td>\n",
       "      <td>...</td>\n",
       "      <td>...</td>\n",
       "      <td>...</td>\n",
       "      <td>...</td>\n",
       "      <td>...</td>\n",
       "      <td>...</td>\n",
       "    </tr>\n",
       "    <tr>\n",
       "      <th>192</th>\n",
       "      <td>Samoa</td>\n",
       "      <td>40.700</td>\n",
       "      <td>40.700</td>\n",
       "      <td>40.700</td>\n",
       "      <td>40.700</td>\n",
       "      <td>40.700</td>\n",
       "      <td>40.700</td>\n",
       "      <td>40.700</td>\n",
       "      <td>40.700</td>\n",
       "      <td>40.700</td>\n",
       "      <td>...</td>\n",
       "      <td>38.700</td>\n",
       "      <td>38.700</td>\n",
       "      <td>38.700</td>\n",
       "      <td>38.700</td>\n",
       "      <td>38.700</td>\n",
       "      <td>38.700</td>\n",
       "      <td>38.700</td>\n",
       "      <td>38.700</td>\n",
       "      <td>38.700</td>\n",
       "      <td>38.700</td>\n",
       "    </tr>\n",
       "    <tr>\n",
       "      <th>193</th>\n",
       "      <td>Yemen</td>\n",
       "      <td>49.800</td>\n",
       "      <td>49.800</td>\n",
       "      <td>49.800</td>\n",
       "      <td>49.800</td>\n",
       "      <td>49.800</td>\n",
       "      <td>49.800</td>\n",
       "      <td>49.800</td>\n",
       "      <td>49.800</td>\n",
       "      <td>49.800</td>\n",
       "      <td>...</td>\n",
       "      <td>37.400</td>\n",
       "      <td>37.400</td>\n",
       "      <td>37.400</td>\n",
       "      <td>37.400</td>\n",
       "      <td>37.400</td>\n",
       "      <td>37.400</td>\n",
       "      <td>37.400</td>\n",
       "      <td>37.400</td>\n",
       "      <td>37.400</td>\n",
       "      <td>37.400</td>\n",
       "    </tr>\n",
       "    <tr>\n",
       "      <th>194</th>\n",
       "      <td>South Africa</td>\n",
       "      <td>35.200</td>\n",
       "      <td>35.200</td>\n",
       "      <td>35.200</td>\n",
       "      <td>35.200</td>\n",
       "      <td>35.200</td>\n",
       "      <td>35.200</td>\n",
       "      <td>35.200</td>\n",
       "      <td>35.200</td>\n",
       "      <td>35.200</td>\n",
       "      <td>...</td>\n",
       "      <td>63.900</td>\n",
       "      <td>63.900</td>\n",
       "      <td>63.900</td>\n",
       "      <td>63.900</td>\n",
       "      <td>63.900</td>\n",
       "      <td>63.900</td>\n",
       "      <td>63.900</td>\n",
       "      <td>63.900</td>\n",
       "      <td>63.900</td>\n",
       "      <td>63.900</td>\n",
       "    </tr>\n",
       "    <tr>\n",
       "      <th>195</th>\n",
       "      <td>Zambia</td>\n",
       "      <td>52.100</td>\n",
       "      <td>52.100</td>\n",
       "      <td>52.100</td>\n",
       "      <td>52.100</td>\n",
       "      <td>52.100</td>\n",
       "      <td>52.100</td>\n",
       "      <td>52.100</td>\n",
       "      <td>52.100</td>\n",
       "      <td>52.100</td>\n",
       "      <td>...</td>\n",
       "      <td>57.800</td>\n",
       "      <td>57.800</td>\n",
       "      <td>57.800</td>\n",
       "      <td>57.800</td>\n",
       "      <td>57.800</td>\n",
       "      <td>57.800</td>\n",
       "      <td>57.800</td>\n",
       "      <td>57.800</td>\n",
       "      <td>57.800</td>\n",
       "      <td>57.800</td>\n",
       "    </tr>\n",
       "    <tr>\n",
       "      <th>196</th>\n",
       "      <td>Zimbabwe</td>\n",
       "      <td>27.300</td>\n",
       "      <td>27.300</td>\n",
       "      <td>27.300</td>\n",
       "      <td>27.300</td>\n",
       "      <td>27.300</td>\n",
       "      <td>27.300</td>\n",
       "      <td>27.300</td>\n",
       "      <td>27.300</td>\n",
       "      <td>27.300</td>\n",
       "      <td>...</td>\n",
       "      <td>50.900</td>\n",
       "      <td>50.900</td>\n",
       "      <td>50.900</td>\n",
       "      <td>50.900</td>\n",
       "      <td>50.900</td>\n",
       "      <td>50.900</td>\n",
       "      <td>50.900</td>\n",
       "      <td>50.900</td>\n",
       "      <td>50.900</td>\n",
       "      <td>50.900</td>\n",
       "    </tr>\n",
       "  </tbody>\n",
       "</table>\n",
       "<p>197 rows × 252 columns</p>\n",
       "</div>"
      ],
      "text/plain": [
       "          country   1800   1801   1802   1803   1804   1805   1806   1807  \\\n",
       "0     Afghanistan 30.500 30.500 30.500 30.500 30.500 30.500 30.500 30.500   \n",
       "1          Angola 57.700 57.700 57.700 57.700 57.700 57.700 57.700 57.700   \n",
       "2         Albania 39.900 39.900 39.900 39.900 39.900 39.900 39.900 39.900   \n",
       "3         Andorra 42.500 42.500 42.500 42.500 42.500 42.500 42.500 42.500   \n",
       "4             UAE 39.800 39.800 39.800 39.800 39.800 39.800 39.800 39.700   \n",
       "..            ...    ...    ...    ...    ...    ...    ...    ...    ...   \n",
       "192         Samoa 40.700 40.700 40.700 40.700 40.700 40.700 40.700 40.700   \n",
       "193         Yemen 49.800 49.800 49.800 49.800 49.800 49.800 49.800 49.800   \n",
       "194  South Africa 35.200 35.200 35.200 35.200 35.200 35.200 35.200 35.200   \n",
       "195        Zambia 52.100 52.100 52.100 52.100 52.100 52.100 52.100 52.100   \n",
       "196      Zimbabwe 27.300 27.300 27.300 27.300 27.300 27.300 27.300 27.300   \n",
       "\n",
       "      1808  ...   2041   2042   2043   2044   2045   2046   2047   2048  \\\n",
       "0   30.500  ... 38.200 38.200 38.200 38.200 38.200 38.200 38.200 38.200   \n",
       "1   57.700  ... 52.000 52.000 52.000 52.000 52.000 52.000 52.000 52.000   \n",
       "2   39.900  ... 33.700 33.700 33.700 33.700 33.700 33.700 33.700 33.700   \n",
       "3   42.500  ... 35.000 35.000 35.000 35.000 35.000 35.000 35.000 35.000   \n",
       "4   39.700  ... 25.900 25.900 25.900 25.900 25.900 25.900 25.900 25.900   \n",
       "..     ...  ...    ...    ...    ...    ...    ...    ...    ...    ...   \n",
       "192 40.700  ... 38.700 38.700 38.700 38.700 38.700 38.700 38.700 38.700   \n",
       "193 49.800  ... 37.400 37.400 37.400 37.400 37.400 37.400 37.400 37.400   \n",
       "194 35.200  ... 63.900 63.900 63.900 63.900 63.900 63.900 63.900 63.900   \n",
       "195 52.100  ... 57.800 57.800 57.800 57.800 57.800 57.800 57.800 57.800   \n",
       "196 27.300  ... 50.900 50.900 50.900 50.900 50.900 50.900 50.900 50.900   \n",
       "\n",
       "      2049   2050  \n",
       "0   38.200 38.200  \n",
       "1   52.000 52.000  \n",
       "2   33.700 33.700  \n",
       "3   35.000 35.000  \n",
       "4   25.900 25.900  \n",
       "..     ...    ...  \n",
       "192 38.700 38.700  \n",
       "193 37.400 37.400  \n",
       "194 63.900 63.900  \n",
       "195 57.800 57.800  \n",
       "196 50.900 50.900  \n",
       "\n",
       "[197 rows x 252 columns]"
      ]
     },
     "execution_count": 78,
     "metadata": {},
     "output_type": "execute_result"
    }
   ],
   "source": [
    "\n",
    "gini_country_dfn = gini_dfn['country']\n",
    "#gini_dfni = gini_dfn.set_index('country') #Set the country index\n",
    "# gini_dfni\n",
    "gini_dfn\n"
   ]
  },
  {
   "cell_type": "code",
   "execution_count": 79,
   "metadata": {},
   "outputs": [],
   "source": [
    "import scipy.stats as stats\n",
    "import numpy as np\n",
    "from scipy.stats import f_oneway\n"
   ]
  },
  {
   "cell_type": "markdown",
   "metadata": {},
   "source": [
    "#T Test"
   ]
  },
  {
   "cell_type": "code",
   "execution_count": 80,
   "metadata": {},
   "outputs": [
    {
     "data": {
      "text/plain": [
       "TtestResult(statistic=30.528934038044323, pvalue=3.862082081014955e-98, df=330.0)"
      ]
     },
     "execution_count": 80,
     "metadata": {},
     "output_type": "execute_result"
    }
   ],
   "source": [
    "a = new_df['2018_gini']\n",
    "b = new_df['2018_pviolence']\n",
    "\n",
    "stats.ttest_ind(a,b)"
   ]
  },
  {
   "cell_type": "code",
   "execution_count": 81,
   "metadata": {},
   "outputs": [
    {
     "data": {
      "text/plain": [
       "F_onewayResult(statistic=932.0158134992607, pvalue=3.8620820810151835e-98)"
      ]
     },
     "execution_count": 81,
     "metadata": {},
     "output_type": "execute_result"
    }
   ],
   "source": [
    "f_oneway(new_df['2018_gini'],new_df['2018_pviolence'])"
   ]
  },
  {
   "cell_type": "code",
   "execution_count": null,
   "metadata": {},
   "outputs": [],
   "source": []
  },
  {
   "cell_type": "code",
   "execution_count": null,
   "metadata": {},
   "outputs": [],
   "source": []
  },
  {
   "cell_type": "code",
   "execution_count": null,
   "metadata": {},
   "outputs": [],
   "source": []
  },
  {
   "cell_type": "code",
   "execution_count": null,
   "metadata": {},
   "outputs": [],
   "source": []
  },
  {
   "cell_type": "code",
   "execution_count": null,
   "metadata": {},
   "outputs": [],
   "source": []
  },
  {
   "cell_type": "code",
   "execution_count": null,
   "metadata": {},
   "outputs": [],
   "source": []
  }
 ],
 "metadata": {
  "kernelspec": {
   "display_name": "base",
   "language": "python",
   "name": "python3"
  },
  "language_info": {
   "codemirror_mode": {
    "name": "ipython",
    "version": 3
   },
   "file_extension": ".py",
   "mimetype": "text/x-python",
   "name": "python",
   "nbconvert_exporter": "python",
   "pygments_lexer": "ipython3",
   "version": "3.9.17"
  },
  "orig_nbformat": 4
 },
 "nbformat": 4,
 "nbformat_minor": 2
}
