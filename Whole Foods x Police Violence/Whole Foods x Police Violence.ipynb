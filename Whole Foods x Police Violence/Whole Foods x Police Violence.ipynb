{
 "cells": [
  {
   "cell_type": "code",
   "execution_count": 1,
   "metadata": {},
   "outputs": [],
   "source": [
    "import pandas as pd\n",
    "import plotly.express as px\n",
    "from plotly.subplots import make_subplots\n"
   ]
  },
  {
   "cell_type": "code",
   "execution_count": 2,
   "metadata": {},
   "outputs": [],
   "source": [
    "# Import the data from CSV\n",
    "\n",
    "\n",
    "# The Whole Foods Data /\n",
    "wf_df = pd.read_csv(\"original_wf_data.csv\") #The Whole foods location dataset complete\n",
    "#gini_dfn = gini_df.dropna()#drop na values\n",
    "#gini_dfni = gini_dfn.set_index('country', drop=False) #Set the country index\n",
    "\n",
    "\n",
    "\n",
    "\n",
    "wp_shootings_df = pd.read_csv(\"shootings_wash_post.csv\") #Washington Post shootings report 2015 - 2020\n"
   ]
  },
  {
   "cell_type": "code",
   "execution_count": null,
   "metadata": {},
   "outputs": [],
   "source": []
  }
 ],
 "metadata": {
  "kernelspec": {
   "display_name": "base",
   "language": "python",
   "name": "python3"
  },
  "language_info": {
   "codemirror_mode": {
    "name": "ipython",
    "version": 3
   },
   "file_extension": ".py",
   "mimetype": "text/x-python",
   "name": "python",
   "nbconvert_exporter": "python",
   "pygments_lexer": "ipython3",
   "version": "3.9.17"
  }
 },
 "nbformat": 4,
 "nbformat_minor": 2
}
