import pandas as pd
import plotly.express as px
from plotly.subplots import make_subplots
import pygwalker as pyg



# Import the data from CSV
gini_df = pd.read_csv("gini.csv") #Gini Coefficient (2018)
# The Gini coefficient measures the inequality among the values of a frequency distribution, such as levels of income. A Gini coefficient of 0 reflects perfect equality, where all income or wealth values are the same, while a Gini coefficient of 1 (or 100%) reflects maximal inequality among values, a situation where a single individual has all the income while all others have none.
#Taken from https://www.gapminder.org/data/

gini_df.dropna( inplace = True)#drop na values

partner_violence_df = pd.read_csv("partner_violence.csv") #World partner Violence statistics (2018)
#Ever-partnered women and girls subjected to physical and/or sexual violence by a current or former intimate partner in the previous 12 months (% ages 15–49)
#Taken from https://www.gapminder.org/data/

partner_violence_df.dropna( inplace = True)#drop na values


#mincpcap_df = pd.read_csv("mincpcap_cppp.csv")
#murder_df = pd.read_csv("murder_total_deaths.csv")





# set country as index
gini_df_i = gini_df.set_index("country")
#mincpcap_df_i = mincpcap_df.set_index("country")
# murder_df_i = murder_df.set_index("country")

partner_violence_df_i = partner_violence_df.set_index("country")




fig = px.scatter(gini_df, x='country',y='2018')
fig.show()


#fig = px.scatter(partner_violence_df, x='2018',y = "country")
#fig.show()


#partner_violence_df_t = partner_violence_df.transpose()


fig = px.scatter(partner_violence_df, x='country',y = "2018")
fig.show()


# Set sane display perameters
pd.set_option('display.float_format', lambda x: '%.3f' %x)
gini_df.describe().style.format("{:,.0f}")


gini_df.head()


partner_violence_df.head()


gini_df['2018']


gini_df_i['2018']


# fig = px.scatter(gini_df_i['2018'], x='country',y='2018')
# fig.show()


gini_df_i["2018"].head()


gini_df_i2 = gini_df_i["2018"]


gini_df_i2.head()


#fig = px.scatter(gini_df_i2, x='country',y='2018')
#fig.show()


gini_df_i2.index



partner_violence_df.index


partner_violence_df_i.index





partner_violence_df_i.columns





partner_violence_df_i3.columns


fig = px.scatter(partner_violence_df, x='country', y = '2018')
fig.show()


fig = px.scatter(gini_df, x='country', y = '2018')
fig.show()


gini_df.head()


frames = [gini_df.set_index("country"), partner_violence_df.set_index("country")]



result_in = pd.concat(frames,join='inner', keys=["gini","pviolence"])



result_in.head()


print(result_in['2018':'gini'])


# Assign Not null values to outputs
output1 = result_in.loc[['pviolence'],['2018']]

output2 = result_in.loc[['gini'],['2018']]


#fig = px.scatter(output2, x='country', y = '2018')
#fig.show()


result_in.head(5)


result_in.unstack(level=0)


result_in2 = result_in.unstack(level=0)


result_in2


result_in2.dropna()


result_in3 = result_in2['2018',"gini"],['2018',"pviolence"]


result_in.unstack(level=0)


result_in.dropna( inplace = True)


result_in.unstack(level=0)


gini_df_i


gini_df_i


frames2xi = [gini_df.set_index("country"), partner_violence_df.set_index("country")]
result_in2i = pd.concat(frames,join='inner', keys=["gini","pviolence"])




result_in2i


fig = px.scatter(gini_df, x = 'country', y = '2018')
fig = px.scatter(partner_violence_df, x = 'country', y = '2018')

fig.show()


import plotly.graph_objects as go
from plotly.subplots import make_subplots


# Create figure with secondary y-axis
fig = make_subplots(specs=[[{"secondary_y": True}]])

# Add traces
fig.add_trace(
    go.Scatter(x=[gini_df_i'country'], y=['2018'], name="Gini Score"),
    secondary_y=False,
)

fig.add_trace(
    go.Scatter(partner_violence_df_i.to_dict(), x = 'country', y = '2018', name="Partner Violence"),
    secondary_y=True,
)

# Add figure title
fig.update_layout(
    title_text="Partner Violence vs Gini Scores"
)

# Set x-axis title
fig.update_xaxes(title_text="Country")

# Set y-axes titles
fig.update_yaxes(title_text="<b>primary</b> yaxis title", secondary_y=False)
fig.update_yaxes(title_text="<b>secondary</b> yaxis title", secondary_y=True)

fig.show()


gini_df_i2


pyg.walk(gini_df_i)


pyg.walk(partner_violence_df_i)



